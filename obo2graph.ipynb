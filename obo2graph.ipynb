{
 "cells": [
  {
   "cell_type": "code",
   "execution_count": 1,
   "id": "7ea76083-3ce8-405b-a277-7f275aa63716",
   "metadata": {},
   "outputs": [],
   "source": [
    "import networkx as nx"
   ]
  },
  {
   "cell_type": "code",
   "execution_count": 2,
   "id": "b33918dc-09f6-460a-adba-3eb9b9fcdeb8",
   "metadata": {},
   "outputs": [],
   "source": [
    "def parseobo(obofile):\n",
    "    lines = \"\"\n",
    "    with open(obofile,\"r\") as f:\n",
    "        for line in f:\n",
    "            if line != \"\\n\":\n",
    "                lines += line\n",
    "    lines = lines.split(\"[Term]\\n\")\n",
    "    GOs = {}\n",
    "    for line in lines[1:]:\n",
    "        id = None\n",
    "        interactions = {}\n",
    "        line = line[:-1]\n",
    "        data = line.split(\"\\n\")\n",
    "        for data_ in data:\n",
    "            key = data_.split(\": \")[0]\n",
    "            if key == \"id\":\n",
    "                id  = data_.split(\" \")[-1]\n",
    "                GOs[id] = {\"name\": [], \"alt_id\":[], \"namespace\": [], \"def\": [], \"synonym\": [], \"is_a\":[], \"negatively_regulates\":[], \"part_of\":[], \"positively_regulates\":[], \"regulates\": [], \"is_obsolete\":[], \"consider\":[], \"replaced_by\": []}\n",
    "            elif key == \"relationship\":\n",
    "                #relationship: part_of GO:0005829 ! cytosol\n",
    "                subindex = data_.split(\": \")[1].split(\" \")[0]\n",
    "                relationGO = data_.split(\": \")[1].split(subindex+\" \")[-1].split(\" !\")[0] \n",
    "                GOs[id][subindex].append(relationGO)\n",
    "            else:\n",
    "                if key != \"subset\" and key != \"xref\" and key != \"comment\":\n",
    "                    info = data_.split(\": \")[1].split(\" !\")[0]\n",
    "                    GOs[id][key].append(info.replace('\"',\"\"))\n",
    "\n",
    "    return GOs"
   ]
  },
  {
   "cell_type": "code",
   "execution_count": 3,
   "id": "46838ce8-1a12-4c5a-9bcb-03069636f473",
   "metadata": {},
   "outputs": [],
   "source": [
    "def makeGoGraph(GODict, drop_obsolete=True):\n",
    "    G = nx.DiGraph()\n",
    "    #parsing GO dict, adding first the nodes and then the graph\n",
    "    for id in GODict:\n",
    "        status_obsolete = False\n",
    "        if len(GODict[id][\"is_obsolete\"]) > 0:\n",
    "            status_obsolete = True\n",
    "\n",
    "        if status_obsolete == False:\n",
    "            G.add_node(id)\n",
    "        else:\n",
    "            if drop_obsolete == False:\n",
    "                G.add_node(id)\n",
    "\n",
    "    #adding interactions\n",
    "    for id in G.nodes:\n",
    "        for go in GODict[id][\"is_a\"]:\n",
    "            G.add_edge(go, id)\n",
    "        for go in GODict[id][\"part_of\"]:\n",
    "            G.add_edge(go, id)\n",
    "        for go in GODict[id][\"negatively_regulates\"]:\n",
    "            G.add_edge(id, go)\n",
    "        for go in GODict[id][\"positively_regulates\"]:\n",
    "            G.add_edge(id, go)\n",
    "        for go in GODict[id][\"regulates\"]:\n",
    "            G.add_edge(id, go)\n",
    "    return G"
   ]
  },
  {
   "cell_type": "code",
   "execution_count": 4,
   "id": "615a6001-5699-49e9-a370-7a0fa87bfffb",
   "metadata": {},
   "outputs": [],
   "source": [
    "GODict = parseobo(\"go-basic.obo\")"
   ]
  },
  {
   "cell_type": "code",
   "execution_count": 5,
   "id": "a76654e6-820b-4454-a346-d0a89639e5f1",
   "metadata": {},
   "outputs": [],
   "source": [
    "GONet = makeGoGraph(GODict)"
   ]
  },
  {
   "cell_type": "code",
   "execution_count": 6,
   "id": "7d177e63-4ffb-4d43-b5fb-59e3bca6631e",
   "metadata": {},
   "outputs": [],
   "source": [
    "nx.write_gml(GONet, \"GO.gml\")"
   ]
  }
 ],
 "metadata": {
  "kernelspec": {
   "display_name": "Python 3 (ipykernel)",
   "language": "python",
   "name": "python3"
  },
  "language_info": {
   "codemirror_mode": {
    "name": "ipython",
    "version": 3
   },
   "file_extension": ".py",
   "mimetype": "text/x-python",
   "name": "python",
   "nbconvert_exporter": "python",
   "pygments_lexer": "ipython3",
   "version": "3.10.12"
  }
 },
 "nbformat": 4,
 "nbformat_minor": 5
}
